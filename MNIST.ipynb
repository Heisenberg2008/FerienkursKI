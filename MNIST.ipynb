{
 "cells": [
  {
   "cell_type": "markdown",
   "id": "korean-companion",
   "metadata": {},
   "source": [
    "## Training eines neuronalen Netzes zur Erkennung von Ziffern\n",
    "\n",
    "Bei Training der Snake-KI und beim Training des Chat-Bots haben wir neuronale Netze als \"Black Box\" verwendet. Heute wollen wir uns etwas genauer anschauen, wie das Training eines neuronalen Netzes funktioniert.\n",
    "\n",
    "Wenn man eine neue Programmiersprache lernt, beginnt man meistens mit einem *Hello World* – einem kleinen Programm, das die Meldung `Hello World!` ausgibt.\n",
    "Im Bereich der KI bzw. des maschinellen Lernens verwendet man gerne den *[MNIST Datensatz](https://de.wikipedia.org/wiki/MNIST-Datenbank)* als Beispiel verwendet.\n",
    "\n",
    "In diesem Praktikum geht es um folgende Punkte:\n",
    "\n",
    "**1. Wie trainiert man ein neuronales Netz?**<br>\n",
    "   Wir lernen, wie man\n",
    "   - Trainingsdaten lädt,\n",
    "   - ein neuronales Netz aufbaut,\n",
    "   - das neuronale Netz trainiert und\n",
    "   - die Qualität des Netzes misst.\n",
    "\n",
    "\n",
    "**2. Wovon hängt die Qualität der Erkennung ab?**<br>\n",
    "   Jenachdem, \n",
    "   - wie wir unser Netz bauen, \n",
    "   - wie viele Trainingsdaten wir verwenden und \n",
    "   - wie lange wir das Netz trainieren\n",
    "   sind die Ergebnisse besser oder schlechter. Dabei gibt es typische Probleme, die beim Training von KI-Modellen immer wieder auftauchen. Wie beim Fußball ist es \n",
    "   wichtig, als \"Trainer\" diese Probleme zu erkennen und zu wissen, was man dagegen tun kann.\n"
   ]
  },
  {
   "cell_type": "markdown",
   "id": "earlier-english",
   "metadata": {},
   "source": [
    "In diesem Praktikum verwenden wir ein *Jupyter Notebook*. Darin kann man Erklärungen direkt in das Programm einbauen. Die folgende *Code-Zelle* gibt `Hello World!` aus, wenn Du sie ausführst."
   ]
  },
  {
   "cell_type": "code",
   "execution_count": 1,
   "id": "victorian-intake",
   "metadata": {},
   "outputs": [
    {
     "name": "stdout",
     "output_type": "stream",
     "text": [
      "Hello World!\n"
     ]
    }
   ],
   "source": [
    "print(\"Hello World!\")"
   ]
  },
  {
   "cell_type": "markdown",
   "id": "hispanic-plate",
   "metadata": {},
   "source": [
    "Hier geht es mit dem Trainingsprogramm los. Die folgende Code-Zelle importiert die notwendigen Bibliotheken, die wir im folgenden benötigen."
   ]
  },
  {
   "cell_type": "code",
   "execution_count": 2,
   "id": "earlier-malawi",
   "metadata": {},
   "outputs": [],
   "source": [
    "import torch\n",
    "import torch.nn as nn\n",
    "import torch.optim as optim\n",
    "from torch.utils.data import DataLoader\n",
    "import torchvision.datasets as datasets\n",
    "import torchvision.transforms as transforms\n",
    "import matplotlib.pyplot as plt\n",
    "from tqdm.notebook import tqdm"
   ]
  },
  {
   "cell_type": "markdown",
   "id": "median-measurement",
   "metadata": {},
   "source": [
    "### Trainingsdaten laden\n",
    "\n",
    "Jetzt laden wir die Trainingsdaten aus dem Internet und schauen uns ein paar Beispiele an:"
   ]
  },
  {
   "cell_type": "code",
   "execution_count": 3,
   "id": "automated-chance",
   "metadata": {},
   "outputs": [
    {
     "name": "stdout",
     "output_type": "stream",
     "text": [
      "Downloading http://yann.lecun.com/exdb/mnist/train-images-idx3-ubyte.gz to MNIST/raw/train-images-idx3-ubyte.gz\n"
     ]
    },
    {
     "data": {
      "application/vnd.jupyter.widget-view+json": {
       "model_id": "e7ea3d19a76e432cae8ec916d50f1e74",
       "version_major": 2,
       "version_minor": 0
      },
      "text/plain": [
       "0it [00:00, ?it/s]"
      ]
     },
     "metadata": {},
     "output_type": "display_data"
    },
    {
     "name": "stdout",
     "output_type": "stream",
     "text": [
      "Extracting MNIST/raw/train-images-idx3-ubyte.gz to MNIST/raw\n",
      "Downloading http://yann.lecun.com/exdb/mnist/train-labels-idx1-ubyte.gz to MNIST/raw/train-labels-idx1-ubyte.gz\n"
     ]
    },
    {
     "data": {
      "application/vnd.jupyter.widget-view+json": {
       "model_id": "c55d999c9aaf4750af2c64a527afe3ef",
       "version_major": 2,
       "version_minor": 0
      },
      "text/plain": [
       "0it [00:00, ?it/s]"
      ]
     },
     "metadata": {},
     "output_type": "display_data"
    },
    {
     "name": "stdout",
     "output_type": "stream",
     "text": [
      "Extracting MNIST/raw/train-labels-idx1-ubyte.gz to MNIST/raw\n",
      "Downloading http://yann.lecun.com/exdb/mnist/t10k-images-idx3-ubyte.gz to MNIST/raw/t10k-images-idx3-ubyte.gz\n"
     ]
    },
    {
     "data": {
      "application/vnd.jupyter.widget-view+json": {
       "model_id": "5b897942618e4c0cad98d951e2dc1c80",
       "version_major": 2,
       "version_minor": 0
      },
      "text/plain": [
       "0it [00:00, ?it/s]"
      ]
     },
     "metadata": {},
     "output_type": "display_data"
    },
    {
     "name": "stdout",
     "output_type": "stream",
     "text": [
      "Extracting MNIST/raw/t10k-images-idx3-ubyte.gz to MNIST/raw\n",
      "Downloading http://yann.lecun.com/exdb/mnist/t10k-labels-idx1-ubyte.gz to MNIST/raw/t10k-labels-idx1-ubyte.gz\n"
     ]
    },
    {
     "data": {
      "application/vnd.jupyter.widget-view+json": {
       "model_id": "d84ef65991c6418e92e4e27c0a3be29b",
       "version_major": 2,
       "version_minor": 0
      },
      "text/plain": [
       "0it [00:00, ?it/s]"
      ]
     },
     "metadata": {},
     "output_type": "display_data"
    },
    {
     "name": "stdout",
     "output_type": "stream",
     "text": [
      "Extracting MNIST/raw/t10k-labels-idx1-ubyte.gz to MNIST/raw\n",
      "Processing...\n",
      "Done!\n"
     ]
    },
    {
     "name": "stderr",
     "output_type": "stream",
     "text": [
      "/opt/tljh/user/lib/python3.7/site-packages/torchvision/datasets/mnist.py:480: UserWarning: The given NumPy array is not writeable, and PyTorch does not support non-writeable tensors. This means you can write to the underlying (supposedly non-writeable) NumPy array using the tensor. You may want to copy the array to protect its data or make it writeable before converting it to a tensor. This type of warning will be suppressed for the rest of this program. (Triggered internally at  ../torch/csrc/utils/tensor_numpy.cpp:189.)\n",
      "  return torch.from_numpy(parsed.astype(m[2], copy=False)).view(*s)\n"
     ]
    }
   ],
   "source": [
    "train_set = datasets.MNIST(root=\"\", train=True, transform=transforms.ToTensor(), download=True)\n",
    "test_set = datasets.MNIST(root=\"\", train=False, transform=transforms.ToTensor(), download=True)"
   ]
  },
  {
   "cell_type": "markdown",
   "id": "historic-spread",
   "metadata": {},
   "source": [
    "Wähle die ersten 500 Trainingsdatensätze aus."
   ]
  },
  {
   "cell_type": "code",
   "execution_count": 4,
   "id": "collected-atlas",
   "metadata": {},
   "outputs": [],
   "source": [
    "N = 500\n",
    "train_set.data = train_set.data[:N, :, :]"
   ]
  },
  {
   "cell_type": "code",
   "execution_count": 5,
   "id": "alone-prophet",
   "metadata": {},
   "outputs": [
    {
     "name": "stdout",
     "output_type": "stream",
     "text": [
      "train_set shape:  torch.Size([500, 28, 28])\n",
      "test_set shape:  torch.Size([10000, 28, 28])\n"
     ]
    }
   ],
   "source": [
    "print(\"train_set shape: \", train_set.data.shape)\n",
    "print(\"test_set shape: \", test_set.data.shape)"
   ]
  },
  {
   "cell_type": "code",
   "execution_count": 6,
   "id": "narrow-bridges",
   "metadata": {},
   "outputs": [],
   "source": [
    "train_loader = DataLoader(train_set, batch_size=64, pin_memory=True, shuffle=True)\n",
    "test_loader = DataLoader(test_set, batch_size=64, pin_memory=True, shuffle=True)"
   ]
  },
  {
   "cell_type": "code",
   "execution_count": 7,
   "id": "thousand-walker",
   "metadata": {},
   "outputs": [
    {
     "data": {
      "image/png": "[encoded data removed]",
      "text/plain": [
       "<Figure size 432x288 with 18 Axes>"
      ]
     },
     "metadata": {
      "needs_background": "light"
     },
     "output_type": "display_data"
    }
   ],
   "source": [
    "for images, labels in train_loader:\n",
    "    # Wir laden die erste Portion Daten\n",
    "    break;\n",
    "    \n",
    "figure = plt.figure()\n",
    "num_images = 18\n",
    "for i in range(num_images):\n",
    "    plt.subplot(3, 6, i+1, title=f\"{labels[i]}\")\n",
    "    plt.axis(\"off\")\n",
    "    plt.imshow(images[i].cpu().numpy().squeeze(), cmap=\"gray_r\")"
   ]
  },
  {
   "cell_type": "code",
   "execution_count": 8,
   "id": "several-inspiration",
   "metadata": {},
   "outputs": [],
   "source": [
    "hidden_size = 2\n",
    "\n",
    "class ANN(nn.Module):\n",
    "    def __init__(self):\n",
    "        super(ANN, self).__init__()\n",
    "        \n",
    "        self.fc1 = nn.Linear(28*28, hidden_size)\n",
    "        self.fc2 = nn.Linear(hidden_size, 10)\n",
    "        \n",
    "        self.relu = nn.ReLU()\n",
    "        \n",
    "    def forward(self, x):\n",
    "        out = x.view(-1, 28*28)\n",
    "        out = self.fc1(out)\n",
    "        out = self.relu(out)\n",
    "        out = self.fc2(out)\n",
    "        \n",
    "        return out"
   ]
  },
  {
   "cell_type": "code",
   "execution_count": 9,
   "id": "basic-qualification",
   "metadata": {},
   "outputs": [],
   "source": [
    "model = ANN()\n",
    "\n",
    "loss_fn = nn.CrossEntropyLoss()\n",
    "optimizer = optim.SGD(model.parameters(), lr=0.001)\n",
    "\n",
    "#model = model.cuda()"
   ]
  },
  {
   "cell_type": "code",
   "execution_count": 10,
   "id": "vanilla-somalia",
   "metadata": {},
   "outputs": [
    {
     "data": {
      "text/plain": [
       "1600"
      ]
     },
     "execution_count": 10,
     "metadata": {},
     "output_type": "execute_result"
    }
   ],
   "source": [
    "def count_parameters(model):\n",
    "    return sum(p.numel() for p in model.parameters() if p.requires_grad)\n",
    "\n",
    "count_parameters(model)"
   ]
  },
  {
   "cell_type": "code",
   "execution_count": null,
   "id": "biological-entertainment",
   "metadata": {},
   "outputs": [
    {
     "data": {
      "application/vnd.jupyter.widget-view+json": {
       "model_id": "1801b36556c744a78221b8ce6a702052",
       "version_major": 2,
       "version_minor": 0
      },
      "text/plain": [
       "  0%|          | 0/500 [00:00<?, ?it/s]"
      ]
     },
     "metadata": {},
     "output_type": "display_data"
    }
   ],
   "source": [
    "training_loss = []\n",
    "testing_loss = []\n",
    "training_acc = []\n",
    "testing_acc = []\n",
    "\n",
    "epochs = 500\n",
    "\n",
    "with tqdm(range(epochs)) as iterator:\n",
    "\n",
    "    for epoch in iterator:\n",
    "        train_loss = 0\n",
    "        train_acc = 0\n",
    "\n",
    "        model.train()\n",
    "        for images, labels in train_loader:\n",
    "            #images, labels = images.cuda(), labels.cuda()\n",
    "            output = model(images)\n",
    "            optimizer.zero_grad()\n",
    "            loss = loss_fn(output, labels)\n",
    "\n",
    "            loss.backward()\n",
    "            optimizer.step()\n",
    "\n",
    "            prediction = torch.argmax(output, 1)\n",
    "            train_acc += (prediction == labels).sum().item()\n",
    "            train_loss += loss.item()\n",
    "\n",
    "        training_acc.append(train_acc/len(train_set))\n",
    "        training_loss.append(train_loss/len(train_set))\n",
    "\n",
    "        test_loss = 0\n",
    "        test_acc = 0\n",
    "        with torch.no_grad():\n",
    "            for images, labels in test_loader:\n",
    "                #images, labels = images.cuda(), labels.cuda()\n",
    "                output = model(images)\n",
    "                loss = loss_fn(output, labels)\n",
    "                prediction = torch.argmax(output, 1)\n",
    "                test_acc += (prediction == labels).sum().item()\n",
    "                test_loss += loss.item()        \n",
    "            testing_acc.append(test_acc/len(test_set))\n",
    "            testing_loss.append(test_loss/len(test_set))\n",
    "\n",
    "        iterator.set_postfix_str(f\"train_acc: {train_acc/len(train_set):.2f} test_acc: {test_acc/len(test_set):.2f} train_loss: {train_loss/len(train_set):.2f} test_loss: {test_loss/len(test_set):.2f}\")"
   ]
  },
  {
   "cell_type": "code",
   "execution_count": 52,
   "id": "prerequisite-group",
   "metadata": {},
   "outputs": [
    {
     "data": {
      "text/plain": [
       "[]"
      ]
     },
     "execution_count": 52,
     "metadata": {},
     "output_type": "execute_result"
    },
    {
     "data": {
      "image/png": "[encoded data removed]",
      "text/plain": [
       "<Figure size 432x288 with 1 Axes>"
      ]
     },
     "metadata": {
      "needs_background": "light"
     },
     "output_type": "display_data"
    }
   ],
   "source": [
    "plt.plot(range(epochs), training_acc, label=\"train_acc\")\n",
    "plt.plot(range(epochs), testing_acc, label=\"test_acc\")\n",
    "plt.legend()\n",
    "plt.xlabel(\"epoch\")\n",
    "plt.ylabel(\"accuracy\")\n",
    "plt.plot()"
   ]
  },
  {
   "cell_type": "code",
   "execution_count": 34,
   "id": "static-essence",
   "metadata": {},
   "outputs": [
    {
     "data": {
      "text/plain": [
       "[]"
      ]
     },
     "execution_count": 34,
     "metadata": {},
     "output_type": "execute_result"
    },
    {
     "data": {
      "image/png": "[encoded data removed]",
      "text/plain": [
       "<Figure size 432x288 with 1 Axes>"
      ]
     },
     "metadata": {
      "needs_background": "light"
     },
     "output_type": "display_data"
    }
   ],
   "source": [
    "plt.plot(range(epochs), training_loss, label=\"train_loss\")\n",
    "plt.plot(range(epochs), testing_loss, label=\"test_loss\")\n",
    "plt.legend()\n",
    "plt.xlabel(\"epoch\")\n",
    "plt.ylabel(\"loss\")\n",
    "plt.plot()"
   ]
  },
  {
   "cell_type": "code",
   "execution_count": null,
   "id": "arabic-array",
   "metadata": {},
   "outputs": [],
   "source": []
  },
  {
   "cell_type": "code",
   "execution_count": null,
   "id": "available-london",
   "metadata": {},
   "outputs": [],
   "source": []
  }
 ],
 "metadata": {
  "kernelspec": {
   "display_name": "Python 3",
   "language": "python",
   "name": "python3"
  },
  "language_info": {
   "codemirror_mode": {
    "name": "ipython",
    "version": 3
   },
   "file_extension": ".py",
   "mimetype": "text/x-python",
   "name": "python",
   "nbconvert_exporter": "python",
   "pygments_lexer": "ipython3",
   "version": "3.7.3"
  }
 },
 "nbformat": 4,
 "nbformat_minor": 5
}
